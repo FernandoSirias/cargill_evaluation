{
 "cells": [
  {
   "cell_type": "markdown",
   "metadata": {
    "collapsed": true,
    "pycharm": {
     "name": "#%% md\n"
    }
   },
   "source": [
    "# Cargill Internship Program Evaluation\n",
    "**Coded by:** Fernando Sirias\n",
    "___\n",
    "\n",
    "## Exercise 1 – Data Modeling\n",
    "\n",
    "1. Create a data model for CarSalesDataforReports Excel spreadsheet\n",
    "\n",
    "<img src=\"./data_model/data_model.png\" alt=\"data model image\" width=600>"
   ]
  },
  {
   "cell_type": "markdown",
   "source": [
    "## Exercise 2 – Object Oriented Programming\n",
    "\n",
    "1. Define the required classes, methods and properties based on CarSalesDataforReports Excel file."
   ],
   "metadata": {
    "collapsed": false,
    "pycharm": {
     "name": "#%% md\n"
    }
   }
  },
  {
   "cell_type": "code",
   "execution_count": 10,
   "outputs": [],
   "source": [
    "class Client:\n",
    "    def __init__(self, id, name, address1, address2, town, county, postcode, region, outerPostcode, countryId, type,\\\n",
    "                 size, since, isCreditWorthy, isDealer):\n",
    "        self.id = id\n",
    "        self.name = name\n",
    "        self.address1 = address1\n",
    "        self.address2 = address2\n",
    "        self.town =town\n",
    "        self.county = county\n",
    "        self.postcode = postcode\n",
    "        self.region = region\n",
    "        self.outerPostcode = outerPostcode\n",
    "        self.countryId = countryId\n",
    "        self.type = type\n",
    "        self.size = size\n",
    "        self.since = since\n",
    "        self.isCreditWorthy = isCreditWorthy\n",
    "        self.isDealer = isDealer\n",
    "\n",
    "    def change_id(self, new_id):\n",
    "        temp = self.id\n",
    "        self.id = new_id\n",
    "        print(f\"Successfully changed -id- from '{temp}' to '{new_id}'\")\n",
    "\n",
    "\n",
    "    def change_name(self, new_name):\n",
    "        temp = self.name\n",
    "        self.name = new_name\n",
    "        print(f\"Successfully changed -name- from '{temp}' to '{new_name}'\")\n",
    "\n",
    "    def change_address1(self, new_address1):\n",
    "        temp = self.address1\n",
    "        self.address1 = new_address1\n",
    "        print(f\"Successfully changed -address1- from '{temp}' to '{new_address1}'\")\n",
    "\n",
    "    def change_address2(self, new_address2):\n",
    "        temp = self.address2\n",
    "        self.address2 = new_address2\n",
    "        print(f\"Successfully changed -address2- from '{temp}' to '{new_address2}'\")\n",
    "\n",
    "    def change_town(self, new_town):\n",
    "        temp = self.town\n",
    "        self.town = new_town\n",
    "        print(f\"Successfully changed -town- from '{temp}' to '{new_town}'\")\n",
    "\n",
    "    def change_county(self, new_county):\n",
    "        temp = self.county\n",
    "        self.county = new_county\n",
    "        print(f\"Successfully changed -county from '{temp}' to '{new_county}'\")\n",
    "\n",
    "    def change_postcode(self, new_postcode):\n",
    "        temp = self.postcode\n",
    "        self.postcode = new_postcode\n",
    "        print(f\"Successfully changed -postcode- from '{temp}' to '{new_postcode}'\")\n",
    "\n",
    "    def change_region(self, new_region):\n",
    "        temp = self.region\n",
    "        self.region = new_region\n",
    "        print(f\"Successfully changed -region- from '{temp}' to '{new_region}'\")\n",
    "\n",
    "    def change_outerPostcode(self, new_outerPostcode):\n",
    "        temp = self.outerPostcode\n",
    "        self.outerPostcode = new_outerPostcode\n",
    "        print(f\"Successfully changed -outerPostcode- from '{temp}' to '{new_outerPostcode}'\")\n",
    "\n",
    "    def change_countryId(self, new_countryId):\n",
    "        temp = self.countryId\n",
    "        self.countryId = new_countryId\n",
    "        print(f\"Successfully changed -countryId- from '{temp}' to '{new_countryId}'\")\n",
    "\n",
    "    def change_type(self, new_type):\n",
    "        temp = self.type\n",
    "        self.type = new_type\n",
    "        print(f\"Successfully changed -type- from '{temp}' to '{new_type}'\")\n",
    "\n",
    "    def change_size(self, new_size):\n",
    "        temp = self.size\n",
    "        self.size = new_size\n",
    "        print(f\"Successfully changed -size- from '{temp}' to '{new_size}'\")\n",
    "\n",
    "    def change_since(self, new_since):\n",
    "        temp = self.since\n",
    "        self.since = new_since\n",
    "        print(f\"Successfully changed -since- from '{temp}' to '{new_since}'\")\n",
    "\n",
    "    def change_isCreditWorthy(self, new_isCreditWorthy):\n",
    "        temp = self.isCreditWorthy\n",
    "        self.isCreditWorthy = new_isCreditWorthy\n",
    "        print(f\"Succesfully changed -isCreditWorthy- from '{temp}' to '{new_isCreditWorthy}'\")\n",
    "\n",
    "    def change_isDealer(self, new_isDealer):\n",
    "        temp = self.isDealer\n",
    "        self.isDealer = new_isDealer\n",
    "        print(f\"Succesfully changed -isDealer- from '{temp}' to '{new_isDealer}'\")\n",
    "\n",
    "    def info(self):\n",
    "        print(f'''\n",
    "            ----- {self.name} Information ----\n",
    "            Id: {self.id}\n",
    "            Name: {self.name}\n",
    "            Address: {self.address1} / {self.address2}\n",
    "            Town: {self.town}\n",
    "            Country: {self.county}\n",
    "            Postcode: {self.postcode}\n",
    "            Region: {self.region}\n",
    "            Outer postcode: {self.outerPostcode}\n",
    "            Country id: {self.countryId}\n",
    "            Type: {self.type}\n",
    "            Size: {self.size}\n",
    "            Since: {self.since}\n",
    "            Is credit Worthy: {self.isCreditWorthy}\n",
    "            Is dealer: {self.isDealer}\n",
    "            ''')\n"
   ],
   "metadata": {
    "collapsed": false,
    "pycharm": {
     "name": "#%%\n"
    }
   }
  },
  {
   "cell_type": "code",
   "execution_count": 11,
   "outputs": [
    {
     "name": "stdout",
     "output_type": "stream",
     "text": [
      "\n",
      "            ----- Aldo Motors Information ----\n",
      "            Id: 1\n",
      "            Name: Aldo Motors\n",
      "            Address: 4, Scale Street / None\n",
      "            Town: Uttoxeter\n",
      "            Country: Staffs\n",
      "            Postcode: ST17 99RZ\n",
      "            Region: East Midlands\n",
      "            Outer postcode: ST\n",
      "            Country id: 1\n",
      "            Type: Wholesaler\n",
      "            Size: Large\n",
      "            Since: 01/04/1998\n",
      "            Is credit Worthy: 1\n",
      "            Is dealer: None\n",
      "            \n"
     ]
    }
   ],
   "source": [
    "client1 = Client(1, \"Aldo Motors\", \"4, Scale Street\", None, \"Uttoxeter\", \"Staffs\", \"ST17 99RZ\", \"East Midlands\", \\\n",
    "                  \"ST\", 1, \"Wholesaler\", \"Large\", \"01/04/1998\", 1, None)\n",
    "client1.info()"
   ],
   "metadata": {
    "collapsed": false,
    "pycharm": {
     "name": "#%%\n"
    }
   }
  },
  {
   "cell_type": "code",
   "execution_count": 12,
   "outputs": [],
   "source": [
    "class Car:\n",
    "    def __init__(self, id, make, model, colorId, vehicleType, costPrice, spareParts, laborCost, registration_date, \\\n",
    "                 mileage, purchaseDate, vehicleAgeInYears):\n",
    "        self.id = id\n",
    "        self.make = make\n",
    "        self.model = model\n",
    "        self.colorId = colorId\n",
    "        self.type = vehicleType\n",
    "        self.costPrice = costPrice\n",
    "        self.spareParts = spareParts\n",
    "        self.laborCost = laborCost\n",
    "        self.registration_date = registration_date\n",
    "        self.mileage = mileage\n",
    "        self.purchaseDate = purchaseDate\n",
    "        self.vehicleAge = vehicleAgeInYears\n",
    "\n",
    "    def change_id(self, new_id):\n",
    "        temp = self.id\n",
    "        self.id = new_id\n",
    "        print(f\"Successfully changed -id- from '{temp}' to '{new_id}'\")\n",
    "\n",
    "\n",
    "    def change_make(self, new_make):\n",
    "        temp = self.make\n",
    "        self.make = new_make\n",
    "        print(f\"Successfully changed -make- from '{temp}' to '{new_make}'\")\n",
    "\n",
    "    def change_model(self, new_model):\n",
    "        temp = self.model\n",
    "        self.model = new_model\n",
    "        print(f\"Successfully changed -model- from '{temp}' to '{new_model}'\")\n",
    "\n",
    "    def change_colorId(self, new_colorId):\n",
    "        temp = self.colorId\n",
    "        self.colorId = new_colorId\n",
    "        print(f\"Successfully changed -colorId- from '{temp}' to '{new_colorId}'\")\n",
    "\n",
    "    def change_type(self, new_type):\n",
    "        temp = self.type\n",
    "        self.type = new_type\n",
    "        print(f\"Successfully changed -vehicleType- from '{temp}' to '{new_type}'\")\n",
    "\n",
    "    def change_costPrice(self, new_costPrice):\n",
    "        temp = self.costPrice\n",
    "        self.costPrice = new_costPrice\n",
    "        print(f\"Successfully changed -costPrice- from '{temp}' to '{new_costPrice}'\")\n",
    "\n",
    "    def change_spareParts(self, new_spareParts):\n",
    "        temp = self.spareParts\n",
    "        self.spareParts = new_spareParts\n",
    "        print(f\"Successfully changed -postcode- from '{temp}' to '{new_spareParts}'\")\n",
    "\n",
    "    def change_laborCost(self, new_laborCost):\n",
    "        temp = self.laborCost\n",
    "        self.laborCost = new_laborCost\n",
    "        print(f\"Successfully changed -laborCost- from '{temp}' to '{new_laborCost}'\")\n",
    "\n",
    "    def change_registration_date(self, new_registration_date):\n",
    "        temp = self.registration_date\n",
    "        self.registration_date = new_registration_date\n",
    "        print(f\"Successfully changed -registration_date- from '{temp}' to '{new_registration_date}'\")\n",
    "\n",
    "    def change_mileage(self, new_mileage):\n",
    "        temp = self.mileage\n",
    "        self.mileage = new_mileage\n",
    "        print(f\"Successfully changed -mileage- from '{temp}' to '{new_mileage}'\")\n",
    "\n",
    "    def change_purchaseDate(self, new_purchaseDate):\n",
    "        temp = self.purchaseDate\n",
    "        self.purchaseDate = new_purchaseDate\n",
    "        print(f\"Successfully changed -purchaseDate- from '{temp}' to '{new_purchaseDate}'\")\n",
    "\n",
    "    def change_vehicleAge(self, new_vehicleAge):\n",
    "        temp = self.vehicleAge\n",
    "        self.vehicleAge = new_vehicleAge\n",
    "        print(f\"Successfully changed -vehicleAge- from '{temp}' to '{new_vehicleAge}'\")\n",
    "\n",
    "    def info(self):\n",
    "        print(f'''\n",
    "        ---- Stock Information ----\n",
    "        Id: {self.id}\n",
    "        Make: {self.make}\n",
    "        Model: {self.model}\n",
    "        Color id: {self.colorId}\n",
    "        Vehicle Type: {self.type}\n",
    "        Cost Price: {self.costPrice}\n",
    "        Spare Parts: {self.spareParts}\n",
    "        Labor Cost: {self.laborCost}\n",
    "        Registration date: {self.registration_date}\n",
    "        Mileage: {self.mileage}\n",
    "        Purchase date: {self.purchaseDate}\n",
    "        Vehicle age: {self.vehicleAge}\n",
    "        ''')"
   ],
   "metadata": {
    "collapsed": false,
    "pycharm": {
     "name": "#%%\n"
    }
   }
  },
  {
   "cell_type": "code",
   "execution_count": 13,
   "outputs": [
    {
     "name": "stdout",
     "output_type": "stream",
     "text": [
      "\n",
      "        ---- Stock Information ----\n",
      "        Id: 1\n",
      "        Make: Rolls Royce\n",
      "        Model: Camargue\n",
      "        Color id: 1\n",
      "        Vehicle Type: Saloon\n",
      "        Cost Price: 50000\n",
      "        Spare Parts: 500\n",
      "        Labor Cost: 750\n",
      "        Registration date: 1/8/1985\n",
      "        Mileage: 52500\n",
      "        Purchase date: 1/1/2012\n",
      "        Vehicle age: 33\n",
      "        \n"
     ]
    }
   ],
   "source": [
    "car1 = Car(1, \"Rolls Royce\", \"Camargue\", 1, \"Saloon\", 50000, 500, 750, \"1/8/1985\", 52500, \"1/1/2012\", 33)\n",
    "car1.info()"
   ],
   "metadata": {
    "collapsed": false,
    "pycharm": {
     "name": "#%%\n"
    }
   }
  },
  {
   "cell_type": "code",
   "execution_count": 14,
   "outputs": [],
   "source": [
    "class Invoice:\n",
    "    def __init__(self, id, invoiceNumber, clientId, invoiceDate, totalDiscount, deliveryCharge, invoiceDateKey):\n",
    "        self.id = id\n",
    "        self.invoiceNumber = invoiceNumber\n",
    "        self.clientId = clientId\n",
    "        self.invoiceDate = invoiceDate\n",
    "        self.totalDiscount = totalDiscount\n",
    "        self.deliveryCharge = deliveryCharge\n",
    "        self.invoiceDateKey = invoiceDateKey\n",
    "\n",
    "    def info(self):\n",
    "        print(f'''\n",
    "        ---- Invoice Information ----\n",
    "        Id: {self.id}\n",
    "        Invoice Number: {self.invoiceNumber}\n",
    "        Client id: {self.clientId}\n",
    "        Invoice date: {self.invoiceDate}\n",
    "        Total Discount: {self.totalDiscount}\n",
    "        Delivery charge: {self.deliveryCharge}\n",
    "        Invoice Date Key: {self.invoiceDateKey}\n",
    "        ''')"
   ],
   "metadata": {
    "collapsed": false,
    "pycharm": {
     "name": "#%%\n"
    }
   }
  },
  {
   "cell_type": "code",
   "execution_count": 15,
   "outputs": [
    {
     "name": "stdout",
     "output_type": "stream",
     "text": [
      "\n",
      "        ---- Invoice Information ----\n",
      "        Id: 1\n",
      "        Invoice Number: 8B3D7F83-F42C-4523-A737-CDCBF7705B77\n",
      "        Client id: 1\n",
      "        Invoice date: 10/4/2012\n",
      "        Total Discount: 500\n",
      "        Delivery charge: 750\n",
      "        Invoice Date Key: 20121004\n",
      "        \n"
     ]
    }
   ],
   "source": [
    "invoice1 = Invoice(1, \"8B3D7F83-F42C-4523-A737-CDCBF7705B77\", 1, \"10/4/2012\", 500, 750, \"20121004\")\n",
    "invoice1.info()"
   ],
   "metadata": {
    "collapsed": false,
    "pycharm": {
     "name": "#%%\n"
    }
   }
  },
  {
   "cell_type": "code",
   "execution_count": 16,
   "outputs": [],
   "source": [
    "class InvoiceLine:\n",
    "    def __init__(self, id, invoiceId, stockId, salePrice, lineItems):\n",
    "        self.id = id\n",
    "        self.invoiceId = invoiceId\n",
    "        self.stockId = stockId\n",
    "        self.salePrice = salePrice\n",
    "        self.lineItems = lineItems\n",
    "\n",
    "    def info(self):\n",
    "        print(f'''\n",
    "        ---- Invoice Line Information ----\n",
    "        Id: {self.id}\n",
    "        Invoice id: {self.invoiceId}\n",
    "        Stock id: {self.stockId}\n",
    "        Sale price: {self.salePrice}\n",
    "        Line Items: {self.lineItems}\n",
    "        ''')"
   ],
   "metadata": {
    "collapsed": false,
    "pycharm": {
     "name": "#%%\n"
    }
   }
  },
  {
   "cell_type": "code",
   "execution_count": 17,
   "outputs": [
    {
     "name": "stdout",
     "output_type": "stream",
     "text": [
      "\n",
      "        ---- Invoice Line Information ----\n",
      "        Id: 3\n",
      "        Invoice id: 1\n",
      "        Stock id: 1\n",
      "        Sale price: 95000\n",
      "        Line Items: 1\n",
      "        \n"
     ]
    }
   ],
   "source": [
    "invoiceLine1= InvoiceLine(3, 1, 1, 95000, 1)\n",
    "invoiceLine1.info()"
   ],
   "metadata": {
    "collapsed": false,
    "pycharm": {
     "name": "#%%\n"
    }
   }
  },
  {
   "cell_type": "code",
   "execution_count": 18,
   "outputs": [],
   "source": [
    "class Country:\n",
    "    def __init__(self, id, name, isoCode):\n",
    "        self.id = id\n",
    "        self.name = name\n",
    "        self.isoCode = isoCode\n",
    "\n",
    "    def info(self):\n",
    "        print(f'''\n",
    "        ---- Country Information ----\n",
    "        Id: {self.id}\n",
    "        Name: {self.name}\n",
    "        Iso Code: {self.isoCode}\n",
    "        ''')"
   ],
   "metadata": {
    "collapsed": false,
    "pycharm": {
     "name": "#%%\n"
    }
   }
  },
  {
   "cell_type": "code",
   "execution_count": 19,
   "outputs": [
    {
     "name": "stdout",
     "output_type": "stream",
     "text": [
      "\n",
      "        ---- Country Information ----\n",
      "        Id: 1\n",
      "        Name: United Kingdom\n",
      "        Iso Code: GBR\n",
      "        \n"
     ]
    }
   ],
   "source": [
    "country1 = Country(1, \"United Kingdom\", \"GBR\")\n",
    "country1.info()"
   ],
   "metadata": {
    "collapsed": false,
    "pycharm": {
     "name": "#%%\n"
    }
   }
  },
  {
   "cell_type": "code",
   "execution_count": 20,
   "outputs": [],
   "source": [
    "class Color:\n",
    "    def __init__(self, id, color):\n",
    "        self.id = id\n",
    "        self.color = color\n",
    "\n",
    "    def info(self):\n",
    "        print(f'''\n",
    "        ---- Color Information ----\n",
    "        Id: {self.id}\n",
    "        Color: {self.color}\n",
    "        ''')"
   ],
   "metadata": {
    "collapsed": false,
    "pycharm": {
     "name": "#%%\n"
    }
   }
  },
  {
   "cell_type": "code",
   "execution_count": 21,
   "outputs": [
    {
     "name": "stdout",
     "output_type": "stream",
     "text": [
      "\n",
      "        ---- Color Information ----\n",
      "        Id: 1\n",
      "        Color: Red\n",
      "        \n"
     ]
    }
   ],
   "source": [
    "color1 = Color(1, \"Red\")\n",
    "color1.info()"
   ],
   "metadata": {
    "collapsed": false,
    "pycharm": {
     "name": "#%%\n"
    }
   }
  },
  {
   "cell_type": "markdown",
   "source": [
    "2. Based on the point number one, define a class to include another kind of transportation vehicle. Include  properties and methods that you consider required."
   ],
   "metadata": {
    "collapsed": false,
    "pycharm": {
     "name": "#%% md\n"
    }
   }
  },
  {
   "cell_type": "code",
   "execution_count": 22,
   "outputs": [],
   "source": [
    "class Motorcycle(Car):\n",
    "    def __init__(self, id, make, model, colorId, vehicleType, costPrice, spareParts, laborCost, registration_date,\n",
    "                 mileage, purchaseDate, vehicleAgeInYears, cylinder, weight, power):\n",
    "        super().__init__(id, make, model, colorId, vehicleType, costPrice, spareParts, laborCost, registration_date,\n",
    "                         mileage, purchaseDate, vehicleAgeInYears)\n",
    "        self.cylinder = cylinder\n",
    "        self.weight = weight\n",
    "        self.power = power\n",
    "\n",
    "    def change_cylinder(self, new_cylinder):\n",
    "        temp = self.cylinder\n",
    "        self.cylinder = new_cylinder\n",
    "        print(f\"Successfully changed -cylinder- from '{temp}' to '{new_cylinder}'\")\n",
    "\n",
    "    def change_weight(self, new_weight):\n",
    "        temp = self.weight\n",
    "        self.weight = new_weight\n",
    "        print(f\"Successfully changed -weight- from '{temp}' to '{new_weight}'\")\n",
    "\n",
    "    def change_power(self, new_power):\n",
    "        temp = self.power\n",
    "        self.power = new_power\n",
    "        print(f\"Successfully changed -power- from '{temp}' to '{new_power}'\")\n",
    "\n",
    "    def info(self):\n",
    "        print(f'''\n",
    "        ---- Stock Information ----\n",
    "        Id: {self.id}\n",
    "        Make: {self.make}\n",
    "        Model: {self.model}\n",
    "        Color id: {self.colorId}\n",
    "        Vehicle Type: {self.type}\n",
    "        Cost Price: {self.costPrice}\n",
    "        Spare Parts: {self.spareParts}\n",
    "        Labor Cost: {self.laborCost}\n",
    "        Registration date: {self.registration_date}\n",
    "        Mileage: {self.mileage}\n",
    "        Purchase date: {self.purchaseDate}\n",
    "        Vehicle age: {self.vehicleAge}\n",
    "        Cylinder: {self.cylinder}\n",
    "        Weight: {self.weight}\n",
    "        Power: {self.power}\n",
    "        ''')\n"
   ],
   "metadata": {
    "collapsed": false,
    "pycharm": {
     "name": "#%%\n"
    }
   }
  },
  {
   "cell_type": "code",
   "execution_count": 23,
   "outputs": [
    {
     "name": "stdout",
     "output_type": "stream",
     "text": [
      "\n",
      "        ---- Stock Information ----\n",
      "        Id: 1\n",
      "        Make: Ducati\n",
      "        Model: Panigale\n",
      "        Color id: 2\n",
      "        Vehicle Type: Superbike\n",
      "        Cost Price: 30000\n",
      "        Spare Parts: 500\n",
      "        Labor Cost: 400\n",
      "        Registration date: 6/8/2000\n",
      "        Mileage: 2500\n",
      "        Purchase date: 1/1/2020\n",
      "        Vehicle age: 20\n",
      "        Cylinder: 955\n",
      "        Weight: 155\n",
      "        Power: 174.5\n",
      "        \n"
     ]
    }
   ],
   "source": [
    "motorcycle1 = Motorcycle(1, \"Ducati\", \"Panigale\", 2, \"Superbike\", 30000, 500, 400, \"6/8/2000\", 2500, \"1/1/2020\", 20, 955, 155, 174.5)\n",
    "motorcycle1.info()"
   ],
   "metadata": {
    "collapsed": false,
    "pycharm": {
     "name": "#%%\n"
    }
   }
  },
  {
   "cell_type": "markdown",
   "source": [
    "# Exercise 3 – Queries\n",
    "\n",
    "1. Create a query that returns the top 3 car brands most sold (i.e., having the most car brand sales) during first  and third quarter of year 2015."
   ],
   "metadata": {
    "collapsed": false,
    "pycharm": {
     "name": "#%% md\n"
    }
   }
  },
  {
   "cell_type": "code",
   "execution_count": 24,
   "outputs": [
    {
     "name": "stderr",
     "output_type": "stream",
     "text": [
      "C:\\Users\\ferna\\anaconda3\\lib\\site-packages\\numpy\\_distributor_init.py:30: UserWarning: loaded more than 1 DLL from .libs:\n",
      "C:\\Users\\ferna\\anaconda3\\lib\\site-packages\\numpy\\.libs\\libopenblas.WCDJNK7YVMPZQ2ME2ZZHJJRJ3JIKNDB7.gfortran-win_amd64.dll\n",
      "C:\\Users\\ferna\\anaconda3\\lib\\site-packages\\numpy\\.libs\\libopenblas.XWYDX2IKJW2NMTWSFYNGFUWKQU3LYTCZ.gfortran-win_amd64.dll\n",
      "  warnings.warn(\"loaded more than 1 DLL from .libs:\"\n"
     ]
    }
   ],
   "source": [
    "import pandas as pd\n",
    "import matplotlib.pyplot as plt\n",
    "import seaborn as sns\n",
    "import datetime"
   ],
   "metadata": {
    "collapsed": false,
    "pycharm": {
     "name": "#%%\n"
    }
   }
  },
  {
   "cell_type": "code",
   "execution_count": 25,
   "outputs": [
    {
     "name": "stdout",
     "output_type": "stream",
     "text": [
      "*** Data Read Successfully ***\n",
      "----------------------\n",
      "\n",
      "---- Data Shape ----\n",
      "Stock: (461, 12)\n",
      "Invoice: (459, 7)\n",
      "InvoiceLine: (461, 5)\n",
      "DateDimension: (1096, 17)\n",
      "Colors: (10, 2)\n"
     ]
    }
   ],
   "source": [
    "xls = pd.ExcelFile(\"./data/CarSalesDataForReports.xlsx\")\n",
    "stock = pd.read_excel(xls, \"Stock\")\n",
    "invoice = pd.read_excel(xls, \"Invoices\")\n",
    "invoiceLine = pd.read_excel(xls, \"InvoiceLines\")\n",
    "dateDimension = pd.read_excel(xls, \"DateDimension\")\n",
    "colors = pd.read_excel(xls, \"Colors\")\n",
    "print(\"*** Data Read Successfully ***\\n----------------------\\n\")\n",
    "print(\"---- Data Shape ----\")\n",
    "print(\"Stock:\", stock.shape)\n",
    "print(\"Invoice:\", invoice.shape)\n",
    "print(\"InvoiceLine:\", invoiceLine.shape)\n",
    "print(\"DateDimension:\", dateDimension.shape)\n",
    "print(\"Colors:\", colors.shape)"
   ],
   "metadata": {
    "collapsed": false,
    "pycharm": {
     "name": "#%%\n"
    }
   }
  },
  {
   "cell_type": "code",
   "execution_count": 26,
   "outputs": [
    {
     "name": "stdout",
     "output_type": "stream",
     "text": [
      "Final dataframe shape: (461, 40)\n"
     ]
    },
    {
     "data": {
      "text/plain": "     InvoiceLineID  InvoiceID  StockID  SalePrice  LineItem          Make  \\\n0                3          1        1      95000         1   Rolls Royce   \n1                4          2        2     120000         1  Aston Martin   \n2                5          3        3      88000         1   Rolls Royce   \n3                6          4        4      89000         1   Rolls Royce   \n4                7          5        5      92000         1   Rolls Royce   \n..             ...        ...      ...        ...       ...           ...   \n456            462        455      457      39750         1  Aston Martin   \n457            463        456      458      40440         1  Aston Martin   \n458            464        457      459      72000         1   Rolls Royce   \n459            465        458      460      40440         1  Aston Martin   \n460            466        459      461      77250         1  Aston Martin   \n\n            Model  ColorID VehicleType  CostPrice  ...  QuarterAbbr  \\\n0        Camargue        1      Saloon      50000  ...           Q4   \n1             DBS        2       Coupe      75000  ...           Q1   \n2    Silver Ghost        3      Saloon      75000  ...           Q1   \n3    Silver Ghost        2      Saloon      88000  ...           Q1   \n4        Camargue        5      Saloon      62000  ...           Q2   \n..            ...      ...         ...        ...  ...          ...   \n456           DB9        7       Coupe      27500  ...          NaN   \n457           DB9        1       Coupe      22500  ...          NaN   \n458      Camargue        2      Saloon      22500  ...          NaN   \n459           DB9        3       Coupe      36125  ...          NaN   \n460           DB9        4       Coupe      22500  ...          NaN   \n\n     YearAndQuarterNum QuarterAbbrAndYear  MonthAbbrAndYear   MonthAndYear  \\\n0              20124.0            Q4 2012          Oct 2012   October 2012   \n1              20121.0            Q1 2012          Jan 2012   January 2012   \n2              20121.0            Q1 2012          Feb 2012  February 2012   \n3              20121.0            Q1 2012          Mar 2012     March 2012   \n4              20122.0            Q2 2012          Apr 2012     April 2012   \n..                 ...                ...               ...            ...   \n456                NaN                NaN               NaN            NaN   \n457                NaN                NaN               NaN            NaN   \n458                NaN                NaN               NaN            NaN   \n459                NaN                NaN               NaN            NaN   \n460                NaN                NaN               NaN            NaN   \n\n     MonthName MonthNameAbbr  QuarterAndYear QuarterAndYearAbbr2  \\\n0      October           Oct  Quarter 4 2012          Qtr 4 2012   \n1      January           Jan  Quarter 1 2012          Qtr 1 2012   \n2     February           Feb  Quarter 1 2012          Qtr 1 2012   \n3        March           Mar  Quarter 1 2012          Qtr 1 2012   \n4        April           Apr  Quarter 2 2012          Qtr 2 2012   \n..         ...           ...             ...                 ...   \n456        NaN           NaN             NaN                 NaN   \n457        NaN           NaN             NaN                 NaN   \n458        NaN           NaN             NaN                 NaN   \n459        NaN           NaN             NaN                 NaN   \n460        NaN           NaN             NaN                 NaN   \n\n     YearAndMonthNum  \n0           201210.0  \n1           201201.0  \n2           201202.0  \n3           201203.0  \n4           201204.0  \n..               ...  \n456              NaN  \n457              NaN  \n458              NaN  \n459              NaN  \n460              NaN  \n\n[461 rows x 40 columns]",
      "text/html": "<div>\n<style scoped>\n    .dataframe tbody tr th:only-of-type {\n        vertical-align: middle;\n    }\n\n    .dataframe tbody tr th {\n        vertical-align: top;\n    }\n\n    .dataframe thead th {\n        text-align: right;\n    }\n</style>\n<table border=\"1\" class=\"dataframe\">\n  <thead>\n    <tr style=\"text-align: right;\">\n      <th></th>\n      <th>InvoiceLineID</th>\n      <th>InvoiceID</th>\n      <th>StockID</th>\n      <th>SalePrice</th>\n      <th>LineItem</th>\n      <th>Make</th>\n      <th>Model</th>\n      <th>ColorID</th>\n      <th>VehicleType</th>\n      <th>CostPrice</th>\n      <th>...</th>\n      <th>QuarterAbbr</th>\n      <th>YearAndQuarterNum</th>\n      <th>QuarterAbbrAndYear</th>\n      <th>MonthAbbrAndYear</th>\n      <th>MonthAndYear</th>\n      <th>MonthName</th>\n      <th>MonthNameAbbr</th>\n      <th>QuarterAndYear</th>\n      <th>QuarterAndYearAbbr2</th>\n      <th>YearAndMonthNum</th>\n    </tr>\n  </thead>\n  <tbody>\n    <tr>\n      <th>0</th>\n      <td>3</td>\n      <td>1</td>\n      <td>1</td>\n      <td>95000</td>\n      <td>1</td>\n      <td>Rolls Royce</td>\n      <td>Camargue</td>\n      <td>1</td>\n      <td>Saloon</td>\n      <td>50000</td>\n      <td>...</td>\n      <td>Q4</td>\n      <td>20124.0</td>\n      <td>Q4 2012</td>\n      <td>Oct 2012</td>\n      <td>October 2012</td>\n      <td>October</td>\n      <td>Oct</td>\n      <td>Quarter 4 2012</td>\n      <td>Qtr 4 2012</td>\n      <td>201210.0</td>\n    </tr>\n    <tr>\n      <th>1</th>\n      <td>4</td>\n      <td>2</td>\n      <td>2</td>\n      <td>120000</td>\n      <td>1</td>\n      <td>Aston Martin</td>\n      <td>DBS</td>\n      <td>2</td>\n      <td>Coupe</td>\n      <td>75000</td>\n      <td>...</td>\n      <td>Q1</td>\n      <td>20121.0</td>\n      <td>Q1 2012</td>\n      <td>Jan 2012</td>\n      <td>January 2012</td>\n      <td>January</td>\n      <td>Jan</td>\n      <td>Quarter 1 2012</td>\n      <td>Qtr 1 2012</td>\n      <td>201201.0</td>\n    </tr>\n    <tr>\n      <th>2</th>\n      <td>5</td>\n      <td>3</td>\n      <td>3</td>\n      <td>88000</td>\n      <td>1</td>\n      <td>Rolls Royce</td>\n      <td>Silver Ghost</td>\n      <td>3</td>\n      <td>Saloon</td>\n      <td>75000</td>\n      <td>...</td>\n      <td>Q1</td>\n      <td>20121.0</td>\n      <td>Q1 2012</td>\n      <td>Feb 2012</td>\n      <td>February 2012</td>\n      <td>February</td>\n      <td>Feb</td>\n      <td>Quarter 1 2012</td>\n      <td>Qtr 1 2012</td>\n      <td>201202.0</td>\n    </tr>\n    <tr>\n      <th>3</th>\n      <td>6</td>\n      <td>4</td>\n      <td>4</td>\n      <td>89000</td>\n      <td>1</td>\n      <td>Rolls Royce</td>\n      <td>Silver Ghost</td>\n      <td>2</td>\n      <td>Saloon</td>\n      <td>88000</td>\n      <td>...</td>\n      <td>Q1</td>\n      <td>20121.0</td>\n      <td>Q1 2012</td>\n      <td>Mar 2012</td>\n      <td>March 2012</td>\n      <td>March</td>\n      <td>Mar</td>\n      <td>Quarter 1 2012</td>\n      <td>Qtr 1 2012</td>\n      <td>201203.0</td>\n    </tr>\n    <tr>\n      <th>4</th>\n      <td>7</td>\n      <td>5</td>\n      <td>5</td>\n      <td>92000</td>\n      <td>1</td>\n      <td>Rolls Royce</td>\n      <td>Camargue</td>\n      <td>5</td>\n      <td>Saloon</td>\n      <td>62000</td>\n      <td>...</td>\n      <td>Q2</td>\n      <td>20122.0</td>\n      <td>Q2 2012</td>\n      <td>Apr 2012</td>\n      <td>April 2012</td>\n      <td>April</td>\n      <td>Apr</td>\n      <td>Quarter 2 2012</td>\n      <td>Qtr 2 2012</td>\n      <td>201204.0</td>\n    </tr>\n    <tr>\n      <th>...</th>\n      <td>...</td>\n      <td>...</td>\n      <td>...</td>\n      <td>...</td>\n      <td>...</td>\n      <td>...</td>\n      <td>...</td>\n      <td>...</td>\n      <td>...</td>\n      <td>...</td>\n      <td>...</td>\n      <td>...</td>\n      <td>...</td>\n      <td>...</td>\n      <td>...</td>\n      <td>...</td>\n      <td>...</td>\n      <td>...</td>\n      <td>...</td>\n      <td>...</td>\n      <td>...</td>\n    </tr>\n    <tr>\n      <th>456</th>\n      <td>462</td>\n      <td>455</td>\n      <td>457</td>\n      <td>39750</td>\n      <td>1</td>\n      <td>Aston Martin</td>\n      <td>DB9</td>\n      <td>7</td>\n      <td>Coupe</td>\n      <td>27500</td>\n      <td>...</td>\n      <td>NaN</td>\n      <td>NaN</td>\n      <td>NaN</td>\n      <td>NaN</td>\n      <td>NaN</td>\n      <td>NaN</td>\n      <td>NaN</td>\n      <td>NaN</td>\n      <td>NaN</td>\n      <td>NaN</td>\n    </tr>\n    <tr>\n      <th>457</th>\n      <td>463</td>\n      <td>456</td>\n      <td>458</td>\n      <td>40440</td>\n      <td>1</td>\n      <td>Aston Martin</td>\n      <td>DB9</td>\n      <td>1</td>\n      <td>Coupe</td>\n      <td>22500</td>\n      <td>...</td>\n      <td>NaN</td>\n      <td>NaN</td>\n      <td>NaN</td>\n      <td>NaN</td>\n      <td>NaN</td>\n      <td>NaN</td>\n      <td>NaN</td>\n      <td>NaN</td>\n      <td>NaN</td>\n      <td>NaN</td>\n    </tr>\n    <tr>\n      <th>458</th>\n      <td>464</td>\n      <td>457</td>\n      <td>459</td>\n      <td>72000</td>\n      <td>1</td>\n      <td>Rolls Royce</td>\n      <td>Camargue</td>\n      <td>2</td>\n      <td>Saloon</td>\n      <td>22500</td>\n      <td>...</td>\n      <td>NaN</td>\n      <td>NaN</td>\n      <td>NaN</td>\n      <td>NaN</td>\n      <td>NaN</td>\n      <td>NaN</td>\n      <td>NaN</td>\n      <td>NaN</td>\n      <td>NaN</td>\n      <td>NaN</td>\n    </tr>\n    <tr>\n      <th>459</th>\n      <td>465</td>\n      <td>458</td>\n      <td>460</td>\n      <td>40440</td>\n      <td>1</td>\n      <td>Aston Martin</td>\n      <td>DB9</td>\n      <td>3</td>\n      <td>Coupe</td>\n      <td>36125</td>\n      <td>...</td>\n      <td>NaN</td>\n      <td>NaN</td>\n      <td>NaN</td>\n      <td>NaN</td>\n      <td>NaN</td>\n      <td>NaN</td>\n      <td>NaN</td>\n      <td>NaN</td>\n      <td>NaN</td>\n      <td>NaN</td>\n    </tr>\n    <tr>\n      <th>460</th>\n      <td>466</td>\n      <td>459</td>\n      <td>461</td>\n      <td>77250</td>\n      <td>1</td>\n      <td>Aston Martin</td>\n      <td>DB9</td>\n      <td>4</td>\n      <td>Coupe</td>\n      <td>22500</td>\n      <td>...</td>\n      <td>NaN</td>\n      <td>NaN</td>\n      <td>NaN</td>\n      <td>NaN</td>\n      <td>NaN</td>\n      <td>NaN</td>\n      <td>NaN</td>\n      <td>NaN</td>\n      <td>NaN</td>\n      <td>NaN</td>\n    </tr>\n  </tbody>\n</table>\n<p>461 rows × 40 columns</p>\n</div>"
     },
     "execution_count": 26,
     "metadata": {},
     "output_type": "execute_result"
    }
   ],
   "source": [
    "df_temp = pd.merge(invoiceLine, stock, how=\"left\", on=\"StockID\")\n",
    "df_temp = pd.merge(df_temp, invoice, how=\"left\", on=\"InvoiceID\")\n",
    "df_temp = pd.merge(df_temp, colors, how=\"left\", on=\"ColorID\")\n",
    "df = pd.merge(df_temp, dateDimension, how=\"left\", left_on=\"InvoiceDate\", right_on=\"DateKey\")\n",
    "print(\"Final dataframe shape:\",df.shape)\n",
    "df"
   ],
   "metadata": {
    "collapsed": false,
    "pycharm": {
     "name": "#%%\n"
    }
   }
  },
  {
   "cell_type": "code",
   "execution_count": 27,
   "outputs": [
    {
     "data": {
      "text/plain": "Make\nJaguar          16\nAston Martin    14\nBentley          8\nName: Make, dtype: int64"
     },
     "execution_count": 27,
     "metadata": {},
     "output_type": "execute_result"
    }
   ],
   "source": [
    "Q1 = df[(df.InvoiceDate >= datetime.datetime(2015, 1, 1)) & (df.InvoiceDate <= datetime.datetime(2015, 3, 31))]\n",
    "Q1 = Q1.groupby(\"Make\").Make.count().sort_values(ascending=False).head(3)\n",
    "Q1"
   ],
   "metadata": {
    "collapsed": false,
    "pycharm": {
     "name": "#%%\n"
    }
   }
  },
  {
   "cell_type": "code",
   "execution_count": 28,
   "outputs": [
    {
     "data": {
      "text/plain": "Text(0, 0.5, 'Count')"
     },
     "execution_count": 28,
     "metadata": {},
     "output_type": "execute_result"
    },
    {
     "data": {
      "text/plain": "<Figure size 432x288 with 1 Axes>",
      "image/png": "[encoded data removed]"
     },
     "metadata": {
      "needs_background": "light"
     },
     "output_type": "display_data"
    }
   ],
   "source": [
    "sns.barplot(x = Q1.index, y = Q1)\n",
    "plt.title(\"Top 3 car brands most sold (Q1)\")\n",
    "plt.xlabel(\"Brand\")\n",
    "plt.ylabel(\"Count\")"
   ],
   "metadata": {
    "collapsed": false,
    "pycharm": {
     "name": "#%%\n"
    }
   }
  },
  {
   "cell_type": "code",
   "execution_count": 29,
   "outputs": [
    {
     "data": {
      "text/plain": "Make\nJaguar          14\nAston Martin    10\nRolls Royce      8\nName: Make, dtype: int64"
     },
     "execution_count": 29,
     "metadata": {},
     "output_type": "execute_result"
    }
   ],
   "source": [
    "Q3 = df[(df.InvoiceDate >= datetime.datetime(2015, 7, 1)) & (df.InvoiceDate <= datetime.datetime(2015, 9, 30))]\n",
    "Q3 = Q3.groupby(\"Make\").Make.count().sort_values(ascending=False).head(3)\n",
    "Q3"
   ],
   "metadata": {
    "collapsed": false,
    "pycharm": {
     "name": "#%%\n"
    }
   }
  },
  {
   "cell_type": "code",
   "execution_count": 30,
   "outputs": [
    {
     "data": {
      "text/plain": "Text(0, 0.5, 'Count')"
     },
     "execution_count": 30,
     "metadata": {},
     "output_type": "execute_result"
    },
    {
     "data": {
      "text/plain": "<Figure size 432x288 with 1 Axes>",
      "image/png": "[encoded data removed]"
     },
     "metadata": {
      "needs_background": "light"
     },
     "output_type": "display_data"
    }
   ],
   "source": [
    "sns.barplot(x = Q3.index, y = Q3)\n",
    "plt.title(\"Top 3 car brands most sold (Q3)\")\n",
    "plt.xlabel(\"Brand\")\n",
    "plt.ylabel(\"Count\")"
   ],
   "metadata": {
    "collapsed": false,
    "pycharm": {
     "name": "#%%\n"
    }
   }
  },
  {
   "cell_type": "code",
   "execution_count": 31,
   "outputs": [
    {
     "data": {
      "text/plain": "Make\nJaguar          30\nAston Martin    24\nRolls Royce     16\nName: Make, dtype: int64"
     },
     "execution_count": 31,
     "metadata": {},
     "output_type": "execute_result"
    }
   ],
   "source": [
    "Q1_and_Q3 = df[(df.InvoiceDate >= datetime.datetime(2015, 1, 1)) & (df.InvoiceDate <= datetime.datetime(2015, 3, 31)) |\n",
    "               (df.InvoiceDate >= datetime.datetime(2015, 7, 1)) & (df.InvoiceDate <= datetime.datetime(2015, 9, 30))]\n",
    "Q1_and_Q3 = Q1_and_Q3.groupby(\"Make\").Make.count().sort_values(ascending=False).head(3)\n",
    "Q1_and_Q3"
   ],
   "metadata": {
    "collapsed": false,
    "pycharm": {
     "name": "#%%\n"
    }
   }
  },
  {
   "cell_type": "code",
   "execution_count": 32,
   "outputs": [
    {
     "data": {
      "text/plain": "Text(0, 0.5, 'Count')"
     },
     "execution_count": 32,
     "metadata": {},
     "output_type": "execute_result"
    },
    {
     "data": {
      "text/plain": "<Figure size 432x288 with 1 Axes>",
      "image/png": "[encoded data removed]"
     },
     "metadata": {
      "needs_background": "light"
     },
     "output_type": "display_data"
    }
   ],
   "source": [
    "sns.barplot(x = Q1_and_Q3.index, y = Q1_and_Q3)\n",
    "plt.title(\"Top 3 car brands most sold (Q1 and Q3)\")\n",
    "plt.xlabel(\"Brand\")\n",
    "plt.ylabel(\"Count\")"
   ],
   "metadata": {
    "collapsed": false,
    "pycharm": {
     "name": "#%%\n"
    }
   }
  },
  {
   "cell_type": "markdown",
   "source": [
    "2. Create a query that shows the top 3 most sold car colors (i.e., having the most car color sales) for each  quarter for the years 2012,2013,2014,2015."
   ],
   "metadata": {
    "collapsed": false,
    "pycharm": {
     "name": "#%% md\n"
    }
   }
  },
  {
   "cell_type": "code",
   "execution_count": 70,
   "outputs": [],
   "source": [
    "def addlabels(x,y):\n",
    "    for i in range(len(x)):\n",
    "        plt.text(i, y[i], y[i], ha = 'center',\n",
    "                 Bbox = dict(facecolor = 'red', alpha =.7))\n",
    "\n",
    "def generate_plot(quarter_list, year):\n",
    "    plt.figure(figsize=(15,9))\n",
    "    for i in range(4):\n",
    "        plt.subplot(2,2,i+1)\n",
    "        sns.barplot(x = quarter_list[i].index, y = quarter_list[i])\n",
    "        addlabels(quarter_list[i].index, quarter_list[i])\n",
    "        plt.title(f\"Quarter {i+1}\", size=15)\n",
    "        plt.ylabel(\"count\")\n",
    "    plt.suptitle(f\"Top 3 most sold car colors {year}\", size = 30)\n",
    "    plt.tight_layout()"
   ],
   "metadata": {
    "collapsed": false,
    "pycharm": {
     "name": "#%%\n"
    }
   }
  },
  {
   "cell_type": "code",
   "execution_count": 35,
   "outputs": [
    {
     "name": "stdout",
     "output_type": "stream",
     "text": [
      "\n",
      "---- 2012 Q1 ----\n",
      "Color\n",
      "Blue                    4\n",
      "Black                   1\n",
      "British Racing Green    1\n",
      "Name: Color, dtype: int64\n",
      "\n",
      "---- 2012 Q2 ----\n",
      "Color\n",
      "Canary Yellow           4\n",
      "Dark Purple             2\n",
      "British Racing Green    1\n",
      "Name: Color, dtype: int64\n",
      "\n",
      "---- 2012 Q3 ----\n",
      "Color\n",
      "Blue      2\n",
      "Silver    2\n",
      "Black     1\n",
      "Name: Color, dtype: int64\n",
      "\n",
      "---- 2012 Q4 ----\n",
      "Color\n",
      "Canary Yellow           3\n",
      "Black                   2\n",
      "British Racing Green    2\n",
      "Name: Color, dtype: int64\n",
      "\n",
      "\n"
     ]
    }
   ],
   "source": [
    "Q12012 = df[df.YearAndQuarterNum == 20121].groupby(\"Color\").Color.count().sort_values(ascending=False).head(3)\n",
    "Q22012 = df[df.YearAndQuarterNum == 20122].groupby(\"Color\").Color.count().sort_values(ascending=False).head(3)\n",
    "Q32012 = df[df.YearAndQuarterNum == 20123].groupby(\"Color\").Color.count().sort_values(ascending=False).head(3)\n",
    "Q42012 = df[df.YearAndQuarterNum == 20124].groupby(\"Color\").Color.count().sort_values(ascending=False).head(3)\n",
    "\n",
    "print(f'''\n",
    "---- 2012 Q1 ----\n",
    "{Q12012}\\n\n",
    "---- 2012 Q2 ----\n",
    "{Q22012}\\n\n",
    "---- 2012 Q3 ----\n",
    "{Q32012}\\n\n",
    "---- 2012 Q4 ----\n",
    "{Q42012}\\n\n",
    "''')"
   ],
   "metadata": {
    "collapsed": false,
    "pycharm": {
     "name": "#%%\n"
    }
   }
  },
  {
   "cell_type": "code",
   "execution_count": 71,
   "outputs": [
    {
     "name": "stderr",
     "output_type": "stream",
     "text": [
      "<ipython-input-70-a3e6d7457bb6>:3: MatplotlibDeprecationWarning: Case-insensitive properties were deprecated in 3.3 and support will be removed two minor releases later\n",
      "  plt.text(i, y[i], y[i], ha = 'center',\n",
      "<ipython-input-70-a3e6d7457bb6>:3: MatplotlibDeprecationWarning: Case-insensitive properties were deprecated in 3.3 and support will be removed two minor releases later\n",
      "  plt.text(i, y[i], y[i], ha = 'center',\n",
      "<ipython-input-70-a3e6d7457bb6>:3: MatplotlibDeprecationWarning: Case-insensitive properties were deprecated in 3.3 and support will be removed two minor releases later\n",
      "  plt.text(i, y[i], y[i], ha = 'center',\n",
      "<ipython-input-70-a3e6d7457bb6>:3: MatplotlibDeprecationWarning: Case-insensitive properties were deprecated in 3.3 and support will be removed two minor releases later\n",
      "  plt.text(i, y[i], y[i], ha = 'center',\n"
     ]
    },
    {
     "data": {
      "text/plain": "<Figure size 1080x648 with 4 Axes>",
      "image/png": "[encoded data removed]"
     },
     "metadata": {
      "needs_background": "light"
     },
     "output_type": "display_data"
    }
   ],
   "source": [
    "generate_plot([Q12012,Q22012,Q32012,Q42012], 2012)"
   ],
   "metadata": {
    "collapsed": false,
    "pycharm": {
     "name": "#%%\n"
    }
   }
  },
  {
   "cell_type": "code",
   "execution_count": 50,
   "outputs": [
    {
     "name": "stdout",
     "output_type": "stream",
     "text": [
      "\n",
      "---- 2013 Q1 ----\n",
      "Color\n",
      "Green                   6\n",
      "British Racing Green    4\n",
      "Dark Purple             4\n",
      "Name: Color, dtype: int64\n",
      "\n",
      "---- 2013 Q2 ----\n",
      "Color\n",
      "Red              11\n",
      "Canary Yellow     7\n",
      "Night Blue        4\n",
      "Name: Color, dtype: int64\n",
      "\n",
      "---- 2013 Q3 ----\n",
      "Color\n",
      "Blue      5\n",
      "Silver    5\n",
      "Black     3\n",
      "Name: Color, dtype: int64\n",
      "\n",
      "---- 2013 Q4 ----\n",
      "Color\n",
      "Blue             6\n",
      "Red              6\n",
      "Canary Yellow    4\n",
      "Name: Color, dtype: int64\n",
      "\n",
      "\n"
     ]
    }
   ],
   "source": [
    "Q12013 = df[df.YearAndQuarterNum == 20131].groupby(\"Color\").Color.count().sort_values(ascending=False).head(3)\n",
    "Q22013 = df[df.YearAndQuarterNum == 20132].groupby(\"Color\").Color.count().sort_values(ascending=False).head(3)\n",
    "Q32013 = df[df.YearAndQuarterNum == 20133].groupby(\"Color\").Color.count().sort_values(ascending=False).head(3)\n",
    "Q42013 = df[df.YearAndQuarterNum == 20134].groupby(\"Color\").Color.count().sort_values(ascending=False).head(3)\n",
    "\n",
    "print(f'''\n",
    "---- 2013 Q1 ----\n",
    "{Q12013}\\n\n",
    "---- 2013 Q2 ----\n",
    "{Q22013}\\n\n",
    "---- 2013 Q3 ----\n",
    "{Q32013}\\n\n",
    "---- 2013 Q4 ----\n",
    "{Q42013}\\n\n",
    "''')"
   ],
   "metadata": {
    "collapsed": false,
    "pycharm": {
     "name": "#%%\n"
    }
   }
  },
  {
   "cell_type": "code",
   "execution_count": 72,
   "outputs": [
    {
     "name": "stderr",
     "output_type": "stream",
     "text": [
      "<ipython-input-70-a3e6d7457bb6>:3: MatplotlibDeprecationWarning: Case-insensitive properties were deprecated in 3.3 and support will be removed two minor releases later\n",
      "  plt.text(i, y[i], y[i], ha = 'center',\n",
      "<ipython-input-70-a3e6d7457bb6>:3: MatplotlibDeprecationWarning: Case-insensitive properties were deprecated in 3.3 and support will be removed two minor releases later\n",
      "  plt.text(i, y[i], y[i], ha = 'center',\n",
      "<ipython-input-70-a3e6d7457bb6>:3: MatplotlibDeprecationWarning: Case-insensitive properties were deprecated in 3.3 and support will be removed two minor releases later\n",
      "  plt.text(i, y[i], y[i], ha = 'center',\n",
      "<ipython-input-70-a3e6d7457bb6>:3: MatplotlibDeprecationWarning: Case-insensitive properties were deprecated in 3.3 and support will be removed two minor releases later\n",
      "  plt.text(i, y[i], y[i], ha = 'center',\n"
     ]
    },
    {
     "data": {
      "text/plain": "<Figure size 1080x648 with 4 Axes>",
      "image/png": "[encoded data removed]"
     },
     "metadata": {
      "needs_background": "light"
     },
     "output_type": "display_data"
    }
   ],
   "source": [
    "generate_plot([Q12013,Q22013,Q32013,Q42013], 2013)"
   ],
   "metadata": {
    "collapsed": false,
    "pycharm": {
     "name": "#%%\n"
    }
   }
  },
  {
   "cell_type": "code",
   "execution_count": 52,
   "outputs": [
    {
     "name": "stdout",
     "output_type": "stream",
     "text": [
      "\n",
      "---- 2014 Q1 ----\n",
      "Color\n",
      "Blue                    6\n",
      "Green                   4\n",
      "British Racing Green    2\n",
      "Name: Color, dtype: int64\n",
      "\n",
      "---- 2014 Q2 ----\n",
      "Color\n",
      "Canary Yellow    6\n",
      "Red              4\n",
      "Black            2\n",
      "Name: Color, dtype: int64\n",
      "\n",
      "---- 2014 Q3 ----\n",
      "Color\n",
      "Blue             4\n",
      "Canary Yellow    4\n",
      "Black            2\n",
      "Name: Color, dtype: int64\n",
      "\n",
      "---- 2014 Q4 ----\n",
      "Color\n",
      "Canary Yellow    9\n",
      "Silver           6\n",
      "Black            2\n",
      "Name: Color, dtype: int64\n",
      "\n",
      "\n"
     ]
    }
   ],
   "source": [
    "Q12014 = df[df.YearAndQuarterNum == 20141].groupby(\"Color\").Color.count().sort_values(ascending=False).head(3)\n",
    "Q22014 = df[df.YearAndQuarterNum == 20142].groupby(\"Color\").Color.count().sort_values(ascending=False).head(3)\n",
    "Q32014 = df[df.YearAndQuarterNum == 20143].groupby(\"Color\").Color.count().sort_values(ascending=False).head(3)\n",
    "Q42014 = df[df.YearAndQuarterNum == 20144].groupby(\"Color\").Color.count().sort_values(ascending=False).head(3)\n",
    "\n",
    "print(f'''\n",
    "---- 2014 Q1 ----\n",
    "{Q12014}\\n\n",
    "---- 2014 Q2 ----\n",
    "{Q22014}\\n\n",
    "---- 2014 Q3 ----\n",
    "{Q32014}\\n\n",
    "---- 2014 Q4 ----\n",
    "{Q42014}\\n\n",
    "''')"
   ],
   "metadata": {
    "collapsed": false,
    "pycharm": {
     "name": "#%%\n"
    }
   }
  },
  {
   "cell_type": "code",
   "execution_count": 73,
   "outputs": [
    {
     "name": "stderr",
     "output_type": "stream",
     "text": [
      "<ipython-input-70-a3e6d7457bb6>:3: MatplotlibDeprecationWarning: Case-insensitive properties were deprecated in 3.3 and support will be removed two minor releases later\n",
      "  plt.text(i, y[i], y[i], ha = 'center',\n",
      "<ipython-input-70-a3e6d7457bb6>:3: MatplotlibDeprecationWarning: Case-insensitive properties were deprecated in 3.3 and support will be removed two minor releases later\n",
      "  plt.text(i, y[i], y[i], ha = 'center',\n",
      "<ipython-input-70-a3e6d7457bb6>:3: MatplotlibDeprecationWarning: Case-insensitive properties were deprecated in 3.3 and support will be removed two minor releases later\n",
      "  plt.text(i, y[i], y[i], ha = 'center',\n",
      "<ipython-input-70-a3e6d7457bb6>:3: MatplotlibDeprecationWarning: Case-insensitive properties were deprecated in 3.3 and support will be removed two minor releases later\n",
      "  plt.text(i, y[i], y[i], ha = 'center',\n"
     ]
    },
    {
     "data": {
      "text/plain": "<Figure size 1080x648 with 4 Axes>",
      "image/png": "[encoded data removed]"
     },
     "metadata": {
      "needs_background": "light"
     },
     "output_type": "display_data"
    }
   ],
   "source": [
    "generate_plot([Q12014,Q22014,Q32014,Q42014], 2014)"
   ],
   "metadata": {
    "collapsed": false,
    "pycharm": {
     "name": "#%%\n"
    }
   }
  },
  {
   "cell_type": "code",
   "execution_count": 54,
   "outputs": [
    {
     "name": "stdout",
     "output_type": "stream",
     "text": [
      "\n",
      "---- 2015 Q1 ----\n",
      "Color\n",
      "British Racing Green    10\n",
      "Blue                     8\n",
      "Dark Purple              8\n",
      "Name: Color, dtype: int64\n",
      "\n",
      "---- 2015 Q2 ----\n",
      "Color\n",
      "Red              22\n",
      "Black             8\n",
      "Canary Yellow     8\n",
      "Name: Color, dtype: int64\n",
      "\n",
      "---- 2015 Q3 ----\n",
      "Color\n",
      "Canary Yellow    10\n",
      "Dark Purple       8\n",
      "Silver            8\n",
      "Name: Color, dtype: int64\n",
      "\n",
      "---- 2015 Q4 ----\n",
      "Color\n",
      "Red       14\n",
      "Blue      10\n",
      "Silver    10\n",
      "Name: Color, dtype: int64\n",
      "\n",
      "\n"
     ]
    }
   ],
   "source": [
    "Q12015 = df[(df.InvoiceDate >= datetime.datetime(2015, 1, 1)) & (df.InvoiceDate <= datetime.datetime(2015, 3, 31))].groupby(\"Color\").Color.count().sort_values(ascending=False).head(3)\n",
    "Q22015 = df[(df.InvoiceDate >= datetime.datetime(2015, 4, 1)) & (df.InvoiceDate <= datetime.datetime(2015, 6, 30))].groupby(\"Color\").Color.count().sort_values(ascending=False).head(3)\n",
    "Q32015 = df[(df.InvoiceDate >= datetime.datetime(2015, 7, 1)) & (df.InvoiceDate <= datetime.datetime(2015, 9, 30))].groupby(\"Color\").Color.count().sort_values(ascending=False).head(3)\n",
    "Q42015 = df[(df.InvoiceDate >= datetime.datetime(2015, 10, 1)) & (df.InvoiceDate <= datetime.datetime(2015, 12, 31))].groupby(\"Color\").Color.count().sort_values(ascending=False).head(3)\n",
    "\n",
    "print(f'''\n",
    "---- 2015 Q1 ----\n",
    "{Q12015}\\n\n",
    "---- 2015 Q2 ----\n",
    "{Q22015}\\n\n",
    "---- 2015 Q3 ----\n",
    "{Q32015}\\n\n",
    "---- 2015 Q4 ----\n",
    "{Q42015}\\n\n",
    "''')"
   ],
   "metadata": {
    "collapsed": false,
    "pycharm": {
     "name": "#%%\n"
    }
   }
  },
  {
   "cell_type": "code",
   "execution_count": 74,
   "outputs": [
    {
     "name": "stderr",
     "output_type": "stream",
     "text": [
      "<ipython-input-70-a3e6d7457bb6>:3: MatplotlibDeprecationWarning: Case-insensitive properties were deprecated in 3.3 and support will be removed two minor releases later\n",
      "  plt.text(i, y[i], y[i], ha = 'center',\n",
      "<ipython-input-70-a3e6d7457bb6>:3: MatplotlibDeprecationWarning: Case-insensitive properties were deprecated in 3.3 and support will be removed two minor releases later\n",
      "  plt.text(i, y[i], y[i], ha = 'center',\n",
      "<ipython-input-70-a3e6d7457bb6>:3: MatplotlibDeprecationWarning: Case-insensitive properties were deprecated in 3.3 and support will be removed two minor releases later\n",
      "  plt.text(i, y[i], y[i], ha = 'center',\n",
      "<ipython-input-70-a3e6d7457bb6>:3: MatplotlibDeprecationWarning: Case-insensitive properties were deprecated in 3.3 and support will be removed two minor releases later\n",
      "  plt.text(i, y[i], y[i], ha = 'center',\n"
     ]
    },
    {
     "data": {
      "text/plain": "<Figure size 1080x648 with 4 Axes>",
      "image/png": "[encoded data removed]"
     },
     "metadata": {
      "needs_background": "light"
     },
     "output_type": "display_data"
    }
   ],
   "source": [
    "generate_plot([Q12015,Q22015,Q32015,Q42015], 2015)"
   ],
   "metadata": {
    "collapsed": false,
    "pycharm": {
     "name": "#%%\n"
    }
   }
  }
 ],
 "metadata": {
  "kernelspec": {
   "display_name": "Python 3",
   "language": "python",
   "name": "python3"
  },
  "language_info": {
   "codemirror_mode": {
    "name": "ipython",
    "version": 2
   },
   "file_extension": ".py",
   "mimetype": "text/x-python",
   "name": "python",
   "nbconvert_exporter": "python",
   "pygments_lexer": "ipython2",
   "version": "2.7.6"
  }
 },
 "nbformat": 4,
 "nbformat_minor": 0
}